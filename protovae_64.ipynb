{
 "cells": [
  {
   "cell_type": "code",
   "execution_count": 453,
   "metadata": {},
   "outputs": [],
   "source": [
    "import numpy as np\n",
    "import json\n",
    "import random\n",
    "import argparse\n",
    "import os\n",
    "\n",
    "import torch\n",
    "from torch import nn, optim\n",
    "from torch.autograd import Variable\n",
    "from torch.nn import functional as F\n",
    "from torchvision.utils import make_grid\n",
    "from torch.utils.data import DataLoader\n",
    "import torch.optim as optim\n",
    "import torch.distributions.multivariate_normal as mvn\n",
    "from torch.nn.utils import spectral_norm\n",
    "\n",
    "import torchvision.datasets as datasets\n",
    "import torchvision.transforms as transforms\n",
    "from PIL import Image, ImageDraw"
   ]
  },
  {
   "cell_type": "code",
   "execution_count": 454,
   "metadata": {},
   "outputs": [
    {
     "name": "stdout",
     "output_type": "stream",
     "text": [
      "cpu\n"
     ]
    }
   ],
   "source": [
    "device = torch.device(\"cuda\" if torch.cuda.is_available() else \"cpu\")\n",
    "print(device)"
   ]
  },
  {
   "cell_type": "code",
   "execution_count": 455,
   "metadata": {},
   "outputs": [
    {
     "name": "stdout",
     "output_type": "stream",
     "text": [
      "Random Seed:  1123\n"
     ]
    }
   ],
   "source": [
    "seed = 1123\n",
    "random.seed(seed)\n",
    "torch.manual_seed(seed)\n",
    "print(\"Random Seed: \", seed)"
   ]
  },
  {
   "cell_type": "code",
   "execution_count": 456,
   "metadata": {},
   "outputs": [],
   "source": [
    "# batch_size = args.batch_size\n",
    "# lrd = args.learning_rate_disc\n",
    "# lrg = args.learning_rate_gen\n",
    "# epochs = args.epochs\n",
    "\n",
    "batch_size = 256\n",
    "lr = 1e-4\n",
    "epochs = 10\n",
    "\n",
    "betas = [0.5, 0.999]\n",
    "\n",
    "# Check for cuda\n",
    "use_cuda = torch.cuda.is_available()\n",
    "\n",
    "EPS = 1e-6"
   ]
  },
  {
   "cell_type": "code",
   "execution_count": 457,
   "metadata": {},
   "outputs": [],
   "source": [
    "class Encoder(nn.Module):\n",
    "    def __init__(self, in_channels = 1, num_hiddens = 128, hidden_dim=64, z=10):\n",
    "        super(Encoder, self).__init__()\n",
    "\n",
    "        self.num_hiddens = num_hiddens\n",
    "        self.z = z\n",
    "\n",
    "        self._conv_0 = nn.Conv2d(in_channels=in_channels,\n",
    "                                 out_channels=num_hiddens//4,\n",
    "                                 kernel_size=4,\n",
    "                                 stride=2, padding=1)\n",
    "\n",
    "        self._conv_1 = nn.Conv2d(in_channels=num_hiddens//4,\n",
    "                                 out_channels=num_hiddens//4,\n",
    "                                 kernel_size=4,\n",
    "                                 stride=2, padding=1)\n",
    "\n",
    "\n",
    "        self._conv_2 = nn.Conv2d(in_channels=num_hiddens//4,\n",
    "                                 out_channels=num_hiddens//2,\n",
    "                                 kernel_size=4,\n",
    "                                 stride=2, padding=1)\n",
    "\n",
    "\n",
    "        self._conv_3 = nn.Conv2d(in_channels=num_hiddens//2,\n",
    "                                 out_channels=num_hiddens//2,\n",
    "                                 kernel_size=4,\n",
    "                                 stride=2, padding=1)\n",
    "\n",
    "        self._fc1 = nn.Linear(1024, hidden_dim)\n",
    "\n",
    "        self.fc_mean = nn.Linear(hidden_dim, self.z)\n",
    "        self.fc_logvar = nn.Linear(hidden_dim, self.z)\n",
    "        #self.fc_theta = nn.Linear(hidden_dim, self.z) \n",
    "        \n",
    "    def forward(self, inputs):\n",
    "\n",
    "        x1 = F.leaky_relu(self._conv_0(inputs), 0.2, inplace=True)\n",
    "\n",
    "        x2 = self._conv_1(x1)\n",
    "        x2 = F.leaky_relu(x2, 0.2, inplace=True)\n",
    "\n",
    "        x3 = self._conv_2(x2)\n",
    "        x3 = F.leaky_relu(x3, 0.2, inplace=True)\n",
    "\n",
    "        x4 = self._conv_3(x3)\n",
    "        x4 = F.leaky_relu(x4, 0.2, inplace=True)\n",
    "\n",
    "        x5 = self._fc1(x4.view(-1, self.num_hiddens*8))\n",
    "        x5 = F.leaky_relu(x5, 0.2, inplace=True)\n",
    "\n",
    "        mean = self.fc_mean(x5)\n",
    "        logvar = self.fc_logvar(x5)\n",
    "        return mean, logvar"
   ]
  },
  {
   "cell_type": "code",
   "execution_count": 458,
   "metadata": {},
   "outputs": [],
   "source": [
    "class Decoder(nn.Module):\n",
    "    def __init__(self, latent_dim = 10, hidden_dim = 256, num_hiddens = 128, out_channels=1):\n",
    "        super(Decoder, self).__init__()\n",
    "\n",
    "        self.num_hiddens = num_hiddens\n",
    "\n",
    "        self._fc1 = nn.Linear(latent_dim, hidden_dim//2)\n",
    "\n",
    "        self._fc2 = nn.Linear(hidden_dim//2, 1024)\n",
    "\n",
    "        # the exact inverse of the encoder\n",
    "        self._tconv2 = nn.ConvTranspose2d(num_hiddens//2, num_hiddens//2, kernel_size=4, stride=2, padding =1)\n",
    "\n",
    "        self._tconv3 = nn.ConvTranspose2d(in_channels=num_hiddens//2,\n",
    "                                                out_channels=num_hiddens//4,\n",
    "                                                kernel_size=4,\n",
    "                                                stride=2, padding=1)\n",
    "\n",
    "        self._tconv4 = nn.ConvTranspose2d(in_channels=num_hiddens//4,\n",
    "                                                out_channels=num_hiddens//4,\n",
    "                                                kernel_size=4,\n",
    "                                                stride=2, padding=1)\n",
    "\n",
    "\n",
    "        self._tconv5 = nn.ConvTranspose2d(in_channels=num_hiddens//4,\n",
    "                                                out_channels=out_channels,\n",
    "                                                kernel_size=4,\n",
    "                                                stride=2, padding=1)\n",
    "\n",
    "    def forward(self, inputs):\n",
    "        x = self._fc1(inputs)\n",
    "        x = F.leaky_relu(x, 0.2, inplace=True)\n",
    "\n",
    "        x = self._fc2(x)\n",
    "        x = F.leaky_relu(x, 0.2, inplace=True)\n",
    "\n",
    "        x = self._tconv2(x.view(-1,64,4,4))\n",
    "        x = F.leaky_relu(x, 0.2, inplace=True)\n",
    "\n",
    "        x = self._tconv3(x)\n",
    "        x = F.leaky_relu(x, 0.2, inplace=True)\n",
    "\n",
    "        x = self._tconv4(x)\n",
    "        x = F.leaky_relu(x, 0.2, inplace=True)\n",
    "\n",
    "        return torch.sigmoid(self._tconv5(x))"
   ]
  },
  {
   "cell_type": "code",
   "execution_count": 459,
   "metadata": {},
   "outputs": [],
   "source": [
    "class VAE(nn.Module):\n",
    "    def __init__(self, img_size = (1,64,64), enc_hidden = 256, hidden_dim = 64, dis_hidden = 32, z = 5, dec_hidden = 256, use_cuda=False):\n",
    "\n",
    "        super(VAE, self).__init__()\n",
    "        self.use_cuda = use_cuda\n",
    "\n",
    "        # Parameters\n",
    "        self.img_size = img_size\n",
    "        self.num_pixels = img_size[0] * img_size[1] * img_size[2]\n",
    "        self.z = z\n",
    "        self.channels = img_size[0]\n",
    "\n",
    "        # Define the encoder\n",
    "        self.img_to_features = Encoder(in_channels=self.channels, hidden_dim=hidden_dim, z=self.z)\n",
    "\n",
    "        # Define decoder\n",
    "        self.features_to_img = Decoder(self.z, out_channels=self.channels)\n",
    "\n",
    "    def forward(self, data):\n",
    "        mean, logvar = self.encode(data)\n",
    "        sample = self.reparameterize([mean, logvar])\n",
    "        recons = self.decode(sample)\n",
    "        return recons, [mean, logvar]\n",
    "    \n",
    "    def encode(self,data):\n",
    "        return self.img_to_features(data)\n",
    "    \n",
    "    def decode(self,data):\n",
    "        return self.features_to_img(data)\n",
    "        \n",
    "    def representation_function(self,x):\n",
    "        mean, logvar = self.img_to_features(x)\n",
    "        return mean\n",
    "\n",
    "    def reparameterize(self, latent_disc):\n",
    "        mean, logvar = latent_disc\n",
    "        std = torch.exp(0.5 * logvar)\n",
    "        eps = torch.zeros(std.size()).normal_()\n",
    "        if self.use_cuda:\n",
    "            eps = eps.cuda()\n",
    "        return mean + std * eps"
   ]
  },
  {
   "cell_type": "code",
   "execution_count": 460,
   "metadata": {},
   "outputs": [],
   "source": [
    "if __name__ == \"__main__\":\n",
    "    batch_size = 256\n",
    "    img_size = (1,64,64)\n",
    "    z=10\n",
    "    model = VAE(img_size=img_size, z=z, use_cuda=use_cuda)\n",
    "    if use_cuda:\n",
    "        model.cuda()\n",
    "    checkpoint = torch.load('../resultsnpair/realdetmulabssupconweights_e50_z10_b1_g0_lr[0.0005, 0.0005, 0.0001]_bs128_s1123_r[10, 0, 10, 0]_d3',map_location=torch.device('cpu'))\n",
    "    plots = ['samples', 'reconstruct-traverse']\n",
    "    loss_file = '../resultsnpair/realdetmulabssupconlosses_e50_z10_b1_g0_lr[0.0005, 0.0005, 0.0001]_bs128_s1123_r[10, 0, 10, 0]_d3.json'\n",
    "\n",
    "    \n",
    "    \n",
    "    #"
   ]
  },
  {
   "cell_type": "code",
   "execution_count": null,
   "metadata": {},
   "outputs": [],
   "source": []
  },
  {
   "cell_type": "code",
   "execution_count": 461,
   "metadata": {},
   "outputs": [],
   "source": [
    "## see if this can be used \n",
    "\n",
    "# test_data = torch.from_numpy(np.load('tinydsprites_s1_o_y.npy')).float()\n",
    "test_data = torch.from_numpy(np.load('../dsprites/dsprites_data_test.npy')).unsqueeze(1).float()\n",
    "test_labels = torch.from_numpy(np.load('../dsprites/dsprites_latent_values_test.npy')).float()\n",
    "# test_labels = torch.from_numpy(np.load('tinydsplabels_s1_o.npy')).float()\n",
    "\n",
    "\n",
    "test_dataset = torch.utils.data.TensorDataset(test_data,test_labels)\n",
    "\n",
    "test_loader = torch.utils.data.DataLoader(test_dataset, batch_size = 32, shuffle=True,\n",
    "drop_last=True)\n"
   ]
  },
  {
   "cell_type": "code",
   "execution_count": 462,
   "metadata": {},
   "outputs": [],
   "source": [
    "################## yann visualizations ########################################"
   ]
  },
  {
   "cell_type": "code",
   "execution_count": 463,
   "metadata": {},
   "outputs": [],
   "source": [
    "class Visualizer():\n",
    "    def __init__(self, model, model_dir, loss_file, \n",
    "                 save_images=True,\n",
    "                 loss_of_interest=None,\n",
    "                 display_loss_per_dim=False,\n",
    "                 max_traversal=0.475,  # corresponds to ~2 for standard normal\n",
    "                 upsample_factor=1):\n",
    "        \"\"\"\n",
    "        Visualizer is used to generate images of samples, reconstructions,\n",
    "        latent traversals and so on of the trained model.\n",
    "        Parameters\n",
    "        ----------\n",
    "        model : disvae.vae.VAE\n",
    "        dataset : str\n",
    "            Name of the dataset.\n",
    "        model_dir : str\n",
    "            The directory that the model is saved to and where the images will\n",
    "            be stored.\n",
    "        save_images : bool, optional\n",
    "            Whether to save images or return a tensor.\n",
    "        loss_of_interest : str, optional\n",
    "            The loss type (as saved in the log file) to order the latent dimensions by and display.\n",
    "        display_loss_per_dim : bool, optional\n",
    "            if the loss should be included as text next to the corresponding latent dimension images.\n",
    "        max_traversal: float, optional\n",
    "            The maximum displacement induced by a latent traversal. Symmetrical\n",
    "            traversals are assumed. If `m>=0.5` then uses absolute value traversal,\n",
    "            if `m<0.5` uses a percentage of the distribution (quantile).\n",
    "            E.g. for the prior the distribution is a standard normal so `m=0.45` c\n",
    "            orresponds to an absolute value of `1.645` because `2m=90%%` of a\n",
    "            standard normal is between `-1.645` and `1.645`. Note in the case\n",
    "            of the posterior, the distribution is not standard normal anymore.\n",
    "        upsample_factor : floar, optional\n",
    "            Scale factor to upsample the size of the tensor\n",
    "        \"\"\"\n",
    "        self.model = model\n",
    "        self.device = next(self.model.parameters()).device\n",
    "        self.latent_dim = self.model.z\n",
    "        self.max_traversal = max_traversal\n",
    "        self.save_images = save_images\n",
    "        self.model_dir = model_dir \n",
    "        self.dataset = 'dsprites'\n",
    "        self.upsample_factor = upsample_factor\n",
    "        if loss_of_interest is not None:\n",
    "            # get this from your loss file\n",
    "            self.losses = read_loss_from_file(loss_file)\n",
    "\n",
    "    def _get_traversal_range(self, mean=0, std=1):\n",
    "        \"\"\"Return the corresponding traversal range in absolute terms.\"\"\"\n",
    "        max_traversal = self.max_traversal\n",
    "\n",
    "        if max_traversal < 0.5:\n",
    "            max_traversal = (1 - 2 * max_traversal) / 2  # from 0.45 to 0.05\n",
    "            max_traversal = stats.norm.ppf(max_traversal, loc=mean, scale=std)  # from 0.05 to -1.645\n",
    "\n",
    "        # symmetrical traversals\n",
    "        return (-1 * max_traversal, max_traversal)\n",
    "\n",
    "    def _traverse_line(self, idx, n_samples, data=None):\n",
    "        \"\"\"Return a (size, latent_size) latent sample, corresponding to a traversal\n",
    "        of a latent variable indicated by idx.\n",
    "        Parameters\n",
    "        ----------\n",
    "        idx : int\n",
    "            Index of continuous dimension to traverse. If the continuous latent\n",
    "            vector is 10 dimensional and idx = 7, then the 7th dimension\n",
    "            will be traversed while all others are fixed.\n",
    "        n_samples : int\n",
    "            Number of samples to generate.\n",
    "        data : torch.Tensor or None, optional\n",
    "            Data to use for computing the posterior. Shape (N, C, H, W). If\n",
    "            `None` then use the mean of the prior (all zeros) for all other dimensions.\n",
    "        \"\"\"\n",
    "        if data is None:\n",
    "            # mean of prior for other dimensions\n",
    "            samples = torch.zeros(n_samples, self.latent_dim)\n",
    "            traversals = torch.linspace(*self._get_traversal_range(), steps=n_samples)\n",
    "\n",
    "        else:\n",
    "            if data.size(0) > 1:\n",
    "                raise ValueError(\"Every value should be sampled from the same posterior, but {} datapoints given.\".format(data.size(0)))\n",
    "\n",
    "            with torch.no_grad():\n",
    "                post_mean, post_logvar = self.model.encode(data.to(self.device))\n",
    "                samples = self.model.reparameterize([post_mean, post_logvar])\n",
    "                samples = samples.cpu().repeat(n_samples, 1)\n",
    "                post_mean_idx = post_mean.cpu()[0, idx]\n",
    "                post_std_idx = torch.exp(post_logvar / 2).cpu()[0, idx]\n",
    "\n",
    "            # travers from the gaussian of the posterior in case quantile\n",
    "            traversals = torch.linspace(*self._get_traversal_range(mean=post_mean_idx,\n",
    "                                                                   std=post_std_idx),\n",
    "                                        steps=n_samples)\n",
    "\n",
    "        for i in range(n_samples):\n",
    "            samples[i, idx] = traversals[i]\n",
    "\n",
    "        return samples\n",
    "\n",
    "    def _save_or_return(self, to_plot, size, filename, is_force_return=False):\n",
    "        \"\"\"Create plot and save or return it.\"\"\"\n",
    "        to_plot = F.interpolate(to_plot, scale_factor=self.upsample_factor)\n",
    "\n",
    "        if size[0] * size[1] != to_plot.shape[0]:\n",
    "            raise ValueError(\"Wrong size {} for datashape {}\".format(size, to_plot.shape))\n",
    "\n",
    "        # `nrow` is number of images PER row => number of col\n",
    "        kwargs = dict(nrow=size[1], pad_value=1)\n",
    "        if self.save_images and not is_force_return:\n",
    "            filename = os.path.join(self.model_dir, filename)\n",
    "            save_image(to_plot, filename, **kwargs)\n",
    "        else:\n",
    "            return make_grid_img(to_plot, **kwargs)\n",
    "\n",
    "    def _decode_latents(self, latent_samples):\n",
    "        \"\"\"Decodes latent samples into images.\n",
    "        Parameters\n",
    "        ----------\n",
    "        latent_samples : torch.autograd.Variable\n",
    "            Samples from latent distribution. Shape (N, L) where L is dimension\n",
    "            of latent distribution.\n",
    "        \"\"\"\n",
    "        latent_samples = latent_samples.to(self.device)\n",
    "        return self.model.decode(latent_samples).cpu()\n",
    "\n",
    "    def generate_samples(self, size=(8, 8)):\n",
    "        \"\"\"Plot generated samples from the prior and decoding.\n",
    "        Parameters\n",
    "        ----------\n",
    "        size : tuple of ints, optional\n",
    "            Size of the final grid.\n",
    "        \"\"\"\n",
    "        prior_samples = torch.randn(size[0] * size[1], self.latent_dim)\n",
    "        generated = self._decode_latents(prior_samples)\n",
    "        return self._save_or_return(generated.data, size, PLOT_NAMES[\"generate_samples\"])\n",
    "\n",
    "    def data_samples(self, data, size=(8, 8)):\n",
    "        \"\"\"Plot samples from the dataset\n",
    "        Parameters\n",
    "        ----------\n",
    "        data : torch.Tensor\n",
    "            Data to be reconstructed. Shape (N, C, H, W)\n",
    "        size : tuple of ints, optional\n",
    "            Size of the final grid.\n",
    "        \"\"\"\n",
    "        data = data[:size[0] * size[1], ...]\n",
    "        return self._save_or_return(data, size, PLOT_NAMES[\"data_samples\"])\n",
    "\n",
    "    def reconstruct(self, data, size=(8, 8), is_original=True, is_force_return=False):\n",
    "        \"\"\"Generate reconstructions of data through the model.\n",
    "        Parameters\n",
    "        ----------\n",
    "        data : torch.Tensor\n",
    "            Data to be reconstructed. Shape (N, C, H, W)\n",
    "        size : tuple of ints, optional\n",
    "            Size of grid on which reconstructions will be plotted. The number\n",
    "            of rows should be even when `is_original`, so that upper\n",
    "            half contains true data and bottom half contains reconstructions.contains\n",
    "        is_original : bool, optional\n",
    "            Whether to exclude the original plots.\n",
    "        is_force_return : bool, optional\n",
    "            Force returning instead of saving the image.\n",
    "        \"\"\"\n",
    "        if is_original:\n",
    "            if size[0] % 2 != 0:\n",
    "                raise ValueError(\"Should be even number of rows when showing originals not {}\".format(size[0]))\n",
    "            n_samples = size[0] // 2 * size[1]\n",
    "        else:\n",
    "            n_samples = size[0] * size[1]\n",
    "\n",
    "        with torch.no_grad():\n",
    "            originals = data.to(self.device)[:n_samples, ...]\n",
    "            recs,_ = self.model(originals)\n",
    "\n",
    "        originals = originals.cpu()\n",
    "        recs = recs.view(-1, *self.model.img_size).cpu()\n",
    "\n",
    "        to_plot = torch.cat([originals, recs]) if is_original else recs\n",
    "        return self._save_or_return(to_plot, size, PLOT_NAMES[\"reconstruct\"],\n",
    "                                    is_force_return=is_force_return)\n",
    "\n",
    "    def traversals(self,\n",
    "                   data=None,\n",
    "                   is_reorder_latents=False,\n",
    "                   n_per_latent=8,\n",
    "                   n_latents=None,\n",
    "                   is_force_return=False):\n",
    "        \"\"\"Plot traverse through all latent dimensions (prior or posterior) one\n",
    "        by one and plots a grid of images where each row corresponds to a latent\n",
    "        traversal of one latent dimension.\n",
    "        Parameters\n",
    "        ----------\n",
    "        data : bool, optional\n",
    "            Data to use for computing the latent posterior. If `None` traverses\n",
    "            the prior.\n",
    "        n_per_latent : int, optional\n",
    "            The number of points to include in the traversal of a latent dimension.\n",
    "            I.e. number of columns.\n",
    "        n_latents : int, optional\n",
    "            The number of latent dimensions to display. I.e. number of rows. If `None`\n",
    "            uses all latents.\n",
    "        is_reorder_latents : bool, optional\n",
    "            If the latent dimensions should be reordered or not\n",
    "        is_force_return : bool, optional\n",
    "            Force returning instead of saving the image.\n",
    "        \"\"\"\n",
    "        n_latents = n_latents if n_latents is not None else self.model.latent_dim\n",
    "        latent_samples = [self._traverse_line(dim, n_per_latent, data=data)\n",
    "                          for dim in range(self.latent_dim)]\n",
    "        decoded_traversal = self._decode_latents(torch.cat(latent_samples, dim=0))\n",
    "\n",
    "        if is_reorder_latents:\n",
    "            n_images, *other_shape = decoded_traversal.size()\n",
    "            n_rows = n_images // n_per_latent\n",
    "            decoded_traversal = decoded_traversal.reshape(n_rows, n_per_latent, *other_shape)\n",
    "            decoded_traversal = sort_list_by_other(decoded_traversal, self.losses)\n",
    "            decoded_traversal = torch.stack(decoded_traversal, dim=0)\n",
    "            decoded_traversal = decoded_traversal.reshape(n_images, *other_shape)\n",
    "            \n",
    "        decoded_traversal = decoded_traversal[range(n_per_latent * n_latents), ...]\n",
    "\n",
    "        size = (n_latents, n_per_latent)\n",
    "        sampling_type = \"prior\" if data is None else \"posterior\"\n",
    "        filename = \"{}_{}\".format(sampling_type, PLOT_NAMES[\"traversals\"])\n",
    "\n",
    "        return self._save_or_return(decoded_traversal.data, size, filename,\n",
    "                                    is_force_return=is_force_return)\n",
    "\n",
    "    def reconstruct_traverse(self, data,\n",
    "                             is_posterior=True,\n",
    "                             n_per_latent=10,\n",
    "                             n_latents=None,\n",
    "                             is_show_text=True):\n",
    "        \"\"\"\n",
    "        Creates a figure whith first row for original images, second are\n",
    "        reconstructions, rest are traversals (prior or posterior) of the latent\n",
    "        dimensions.\n",
    "        Parameters\n",
    "        ----------\n",
    "        data : torch.Tensor\n",
    "            Data to be reconstructed. Shape (N, C, H, W)\n",
    "        n_per_latent : int, optional\n",
    "            The number of points to include in the traversal of a latent dimension.\n",
    "            I.e. number of columns.\n",
    "        n_latents : int, optional\n",
    "            The number of latent dimensions to display. I.e. number of rows. If `None`\n",
    "            uses all latents.\n",
    "        is_posterior : bool, optional\n",
    "            Whether to sample from the posterior.\n",
    "        is_show_text : bool, optional\n",
    "            Whether the KL values next to the traversal rows.\n",
    "        \"\"\"\n",
    "        n_latents = n_latents if n_latents is not None else self.model.latent_dim\n",
    "\n",
    "        reconstructions = self.reconstruct(data[:2 * n_per_latent, ...],\n",
    "                                           size=(2, n_per_latent),\n",
    "                                           is_force_return=True)\n",
    "        traversals = self.traversals(data=data[2:3, ...] if is_posterior else None,\n",
    "                                     is_reorder_latents=True,\n",
    "                                     n_per_latent=n_per_latent,\n",
    "                                     n_latents=n_latents,\n",
    "                                     is_force_return=True)\n",
    "\n",
    "        concatenated = np.concatenate((reconstructions, traversals), axis=0)\n",
    "        concatenated = Image.fromarray(concatenated)\n",
    "        concatenated.show()\n",
    "\n",
    "        if is_show_text:\n",
    "            losses = sorted(self.losses, reverse=True)[:n_latents]\n",
    "            labels = ['orig', 'recon'] + [\"KL={:.4f}\".format(l) for l in losses]\n",
    "            concatenated = add_labels(concatenated, labels)\n",
    "\n",
    "        filename = os.path.join(self.model_dir, PLOT_NAMES[\"reconstruct_traverse\"])\n",
    "        concatenated.save(filename)"
   ]
  },
  {
   "cell_type": "code",
   "execution_count": 464,
   "metadata": {},
   "outputs": [],
   "source": [
    "def load_weights(model, checkpoint):\n",
    "    model.img_to_features.load_state_dict(checkpoint['encoder'])\n",
    "    model.features_to_img.load_state_dict(checkpoint['decoder'])\n",
    "    model.eval()\n",
    "    return model\n",
    "\n",
    "def make_grid_img(tensor, **kwargs):\n",
    "    \"\"\"Converts a tensor to a grid of images that can be read by imageio.\n",
    "    Notes\n",
    "    -----\n",
    "    * from in https://github.com/pytorch/vision/blob/master/torchvision/utils.py\n",
    "    Parameters\n",
    "    ----------\n",
    "    tensor (torch.Tensor or list): 4D mini-batch Tensor of shape (B x C x H x W)\n",
    "        or a list of images all of the same size.\n",
    "    kwargs:\n",
    "        Additional arguments to `make_grid_img`.\n",
    "    \"\"\"\n",
    "    grid = make_grid(tensor, **kwargs)\n",
    "    img_grid = grid.mul_(255).add_(0.5).clamp_(0, 255).permute(1, 2, 0)\n",
    "    img_grid = img_grid.to('cpu', torch.uint8).numpy()\n",
    "    return img_grid\n",
    "\n",
    "\n",
    "# def get_samples\n",
    "def get_samples(dataset, num_samples, idcs=[]):\n",
    "    \"\"\" Generate a number of samples from the dataset.\n",
    "    Parameters\n",
    "    ----------\n",
    "    dataset : str\n",
    "        The name of the dataset.\n",
    "    num_samples : int, optional\n",
    "        The number of samples to load from the dataset\n",
    "    idcs : list of ints, optional\n",
    "        List of indices to of images to put at the begning of the samples.\n",
    "    \"\"\"\n",
    "    data_loader = torch.utils.data.DataLoader(dataset,\n",
    "                                  batch_size=1,\n",
    "                                  shuffle=idcs is None)\n",
    "\n",
    "    idcs += random.sample(range(len(data_loader.dataset)), num_samples - len(idcs))\n",
    "    samples = torch.stack([data_loader.dataset[i][0] for i in idcs], dim=0)\n",
    "    print(\"Selected idcs: {}\".format(idcs))\n",
    "\n",
    "    return samples\n",
    "\n",
    "def sort_list_by_other(to_sort, other, reverse=True):\n",
    "    \"\"\"Sort a list by an other.\"\"\"\n",
    "    return [el for _, el in sorted(zip(other, to_sort), reverse=reverse)]\n",
    "\n",
    "def read_loss_from_file(loss_file):\n",
    "    with open(loss_file) as f:\n",
    "        data = json.load(f)\n",
    "    kllist =[]\n",
    "    for key in list(data):\n",
    "        if 'kl_' in key:\n",
    "            if 'kl_z' not in key:\n",
    "                kllist.append(np.sum(data[key][-100:])/100)\n",
    "    return kllist\n",
    "\n",
    "def add_labels(input_image, labels):\n",
    "    \"\"\"Adds labels next to rows of an image.\n",
    "    Parameters\n",
    "    ----------\n",
    "    input_image : image\n",
    "        The image to which to add the labels\n",
    "    labels : list\n",
    "        The list of labels to plot\n",
    "    \"\"\"\n",
    "    new_width = input_image.width + 100\n",
    "    new_size = (new_width, input_image.height)\n",
    "    new_img = Image.new(\"RGB\", new_size, color='white')\n",
    "    new_img.paste(input_image, (0, 0))\n",
    "    draw = ImageDraw.Draw(new_img)\n",
    "\n",
    "    for i, s in enumerate(labels):\n",
    "        draw.text(xy=(new_width - 100 + 0.005,\n",
    "                      int((i / len(labels) + 1 / (2 * len(labels))) * input_image.height)),\n",
    "                  text=s,\n",
    "                  fill=(0, 0, 0))\n",
    "\n",
    "    return new_img"
   ]
  },
  {
   "cell_type": "code",
   "execution_count": 465,
   "metadata": {},
   "outputs": [
    {
     "name": "stdout",
     "output_type": "stream",
     "text": [
      "Selected idcs: [143, 77, 255, 130, 236, 3, 196, 129, 11, 118, 201, 74, 218, 9, 17, 41, 124, 1, 238, 55, 151, 82, 174, 246, 116, 212, 177, 144, 90, 110, 59, 123, 4, 102, 16, 69, 207, 211, 153, 98, 224, 83, 65, 170, 235, 163, 114, 205, 239, 71, 42, 181, 162, 26, 24, 79, 5, 73, 45, 225, 149, 145, 113, 99, 220, 95, 126, 36, 52, 58, 93, 188, 0, 228, 128, 136, 184, 15, 222, 34, 221, 155, 152, 100, 20, 38, 204, 226, 106, 104, 229, 137, 134, 173, 61, 138, 213, 54, 141, 33]\n"
     ]
    }
   ],
   "source": [
    "PLOT_NAMES = dict(generate_samples=\"samples.png\",\n",
    "                  data_samples=\"data_samples.png\",\n",
    "                  reconstruct=\"reconstruct.png\",\n",
    "                  traversals=\"traversals.png\",\n",
    "                  reconstruct_traverse=\"reconstruct_traverse.png\")\n",
    "n_rows = z\n",
    "#n_rows = model.latent_dim\n",
    "n_cols = 10\n",
    "\n",
    "#model = VAE(img_size=img_size, z1=2, z2=10, use_cuda=use_cuda)\n",
    "model = load_weights(model, checkpoint)\n",
    "\n",
    "dataset = 'dsprites'\n",
    "    \n",
    "viz = Visualizer(model=model,\n",
    "                 model_dir='',\n",
    "                 max_traversal=2,\n",
    "                 loss_of_interest='kl_loss', loss_file=loss_file,\n",
    "                 upsample_factor=1) \n",
    "size = (n_rows, n_cols)\n",
    "# same samples for all plots: sample max then take first `x`data  for all plots\n",
    "num_samples = n_cols * n_rows\n",
    "    \n",
    "samples = get_samples(test_dataset, num_samples)\n",
    "    \n",
    "if \"all\" in plots:\n",
    "    plots = [p for p in PLOT_TYPES if p != \"all\"]\n",
    "\n",
    "# mostly call it with reconstruct-traverse\n",
    "\n",
    "for plot_type in plots:\n",
    "    if plot_type == 'generate-samples':\n",
    "        viz.generate_samples(size=size)\n",
    "    elif plot_type == 'data-samples':\n",
    "        viz.data_samples(samples, size=size)\n",
    "    elif plot_type == \"reconstruct\":\n",
    "        viz.reconstruct(samples, size=size)\n",
    "    elif plot_type == \"reconstruct-traverse\":\n",
    "        viz.reconstruct_traverse(samples,\n",
    "                                 is_posterior=True,\n",
    "                                 n_latents=n_rows,\n",
    "                                 n_per_latent=n_cols,\n",
    "                                 is_show_text=True)"
   ]
  },
  {
   "cell_type": "code",
   "execution_count": 466,
   "metadata": {},
   "outputs": [],
   "source": [
    "##### end yann visualizations ##############################################################"
   ]
  },
  {
   "cell_type": "code",
   "execution_count": 467,
   "metadata": {},
   "outputs": [],
   "source": [
    "import torchvision.utils as vutils\n",
    "import matplotlib.pyplot as plt\n",
    "\n",
    "model.img_to_features.load_state_dict(checkpoint['encoder'])\n",
    "model.features_to_img.load_state_dict(checkpoint['decoder'])\n",
    "\n",
    "model.eval()\n",
    "\n",
    "(valid_originals, labels) = next(iter(test_loader))\n",
    "valid_originals = valid_originals.to(device)\n",
    "latent_dist = model.encode(valid_originals)\n",
    "latent_sample = latent_dist[0]\n",
    "valid_reconstructions = model.decode(latent_sample)"
   ]
  },
  {
   "cell_type": "code",
   "execution_count": 468,
   "metadata": {},
   "outputs": [],
   "source": [
    "# c = 0\n",
    "# import matplotlib.pyplot as plt\n",
    "# plt.scatter(latent_dist[c][0].detach().numpy(), latent_dist[c][1].detach().numpy()) \n",
    "# #             c = labels[:,0,5].detach().numpy().tolist())\n",
    "# # plt.scatter(latent_dist[c][1].detach().numpy(), np.zeros((32,)), \n",
    "# #             c = labels[:,0,5].detach().numpy().tolist())"
   ]
  },
  {
   "cell_type": "code",
   "execution_count": 469,
   "metadata": {},
   "outputs": [
    {
     "data": {
      "image/png": "[encoded data removed]",
      "text/plain": [
       "<Figure size 432x288 with 1 Axes>"
      ]
     },
     "metadata": {
      "needs_background": "light"
     },
     "output_type": "display_data"
    },
    {
     "data": {
      "image/png": "[encoded data removed]",
      "text/plain": [
       "<Figure size 432x288 with 1 Axes>"
      ]
     },
     "metadata": {
      "needs_background": "light"
     },
     "output_type": "display_data"
    }
   ],
   "source": [
    "import matplotlib.pyplot as plt\n",
    "import numpy as np\n",
    "import scipy.stats as stats\n",
    "import math\n",
    "\n",
    "\n",
    "lat=4\n",
    "for i in range(16):\n",
    "    mu = latent_dist[0][i,lat].detach().numpy()\n",
    "    variance = latent_dist[1][i,lat].exp().detach().numpy()\n",
    "    sigma = math.sqrt(variance)\n",
    "    x = np.linspace(mu - 3*sigma, mu + 3*sigma, 100)\n",
    "    #plt.xlim([-2,2])\n",
    "    plt.plot(x, stats.norm.pdf(x, mu, sigma))#, c = (labels[i,5].detach().numpy().tolist(),0.2,0.5))\n",
    "plt.show()\n",
    "lat=5\n",
    "for i in range(16):\n",
    "    mu = latent_dist[0][i,lat].detach().numpy()\n",
    "    variance = latent_dist[1][i,lat].exp().detach().numpy()\n",
    "    sigma = math.sqrt(variance)\n",
    "    x = np.linspace(mu - 3*sigma, mu + 3*sigma, 100)\n",
    "    plt.plot(x, stats.norm.pdf(x, mu, sigma))#, c = (labels[i,3].detach().numpy().tolist(),0.2,0.5))\n",
    "plt.show()"
   ]
  },
  {
   "cell_type": "code",
   "execution_count": 470,
   "metadata": {},
   "outputs": [],
   "source": [
    "# print(latent_dist[1])"
   ]
  },
  {
   "cell_type": "code",
   "execution_count": 471,
   "metadata": {},
   "outputs": [],
   "source": [
    "def show(img):\n",
    "    npimg = img.numpy()\n",
    "    fig = plt.imshow(np.transpose(npimg, (1,2,0)), interpolation='nearest')\n",
    "    fig.axes.get_xaxis().set_visible(False)\n",
    "    fig.axes.get_yaxis().set_visible(False)\n",
    "    #return fig"
   ]
  },
  {
   "cell_type": "code",
   "execution_count": 472,
   "metadata": {},
   "outputs": [
    {
     "data": {
      "image/png": "[encoded data removed]",
      "text/plain": [
       "<Figure size 432x288 with 1 Axes>"
      ]
     },
     "metadata": {
      "needs_background": "light"
     },
     "output_type": "display_data"
    }
   ],
   "source": [
    "samp = latent_sample[0]\n",
    "s = samp.repeat(40,1)\n",
    "\n",
    "b = torch.linspace(-2,2,40)\n",
    "s[:,9] = b.view(40,)\n",
    "show(vutils.make_grid(model.decode(s).cpu().data, pad_value=1,nrow=10))"
   ]
  },
  {
   "cell_type": "markdown",
   "metadata": {},
   "source": [
    "### s = samp.repeat(10,1)\n",
    "\n",
    "b = torch.linspace(-1,2,10)\n",
    "s[:,9] = b.view(10,)\n",
    "show(vutils.make_grid(model.decode(s).cpu().data, pad_value=1,nrow=10))"
   ]
  },
  {
   "cell_type": "code",
   "execution_count": 473,
   "metadata": {},
   "outputs": [],
   "source": [
    "# s = samp.repeat(40,1)\n",
    "# s[:,4] = b.view(40,)\n",
    "# show(vutils.make_grid(model.decode(s).cpu().data, pad_value=1))"
   ]
  },
  {
   "cell_type": "code",
   "execution_count": 474,
   "metadata": {},
   "outputs": [],
   "source": [
    "# s = samp.repeat(40,1)\n",
    "# s[:,7] = b.view(40,)\n",
    "# show(vutils.make_grid(model.decode(s).cpu().data, pad_value=1))"
   ]
  },
  {
   "cell_type": "code",
   "execution_count": 475,
   "metadata": {},
   "outputs": [],
   "source": [
    "# s = samp.repeat(40,1)\n",
    "# s[:,9] = b.view(40,)\n",
    "# show(vutils.make_grid(model.decode(s).cpu().data, pad_value=1))"
   ]
  },
  {
   "cell_type": "code",
   "execution_count": 476,
   "metadata": {},
   "outputs": [],
   "source": [
    "def show_images_grid(imgs_, num_images=128):\n",
    "    imgs_ = imgs_.numpy()\n",
    "    ncols = int(np.ceil(num_images**0.5))\n",
    "    nrows = int(np.ceil(num_images / ncols))\n",
    "    _, axes = plt.subplots(ncols, nrows, figsize=(nrows * 3, ncols * 3))\n",
    "    axes = axes.flatten()\n",
    "\n",
    "    for ax_i, ax in enumerate(axes):\n",
    "        if ax_i < num_images:\n",
    "            ax.imshow(imgs_[ax_i], cmap='Greys_r', interpolation='nearest')\n",
    "            ax.set_xticks([])\n",
    "            ax.set_yticks([])\n",
    "        else:\n",
    "            ax.axis('off')"
   ]
  },
  {
   "cell_type": "code",
   "execution_count": 477,
   "metadata": {},
   "outputs": [
    {
     "data": {
      "image/png": "[encoded data removed]",
      "text/plain": [
       "<Figure size 432x288 with 1 Axes>"
      ]
     },
     "metadata": {
      "needs_background": "light"
     },
     "output_type": "display_data"
    }
   ],
   "source": [
    "show(vutils.make_grid(valid_originals.cpu()))"
   ]
  },
  {
   "cell_type": "code",
   "execution_count": 478,
   "metadata": {},
   "outputs": [],
   "source": [
    "#show_images_grid(valid_originals.permute(0,2,3,1).cpu().data)"
   ]
  },
  {
   "cell_type": "code",
   "execution_count": 479,
   "metadata": {},
   "outputs": [
    {
     "data": {
      "image/png": "[encoded data removed]",
      "text/plain": [
       "<Figure size 432x288 with 1 Axes>"
      ]
     },
     "metadata": {
      "needs_background": "light"
     },
     "output_type": "display_data"
    }
   ],
   "source": [
    "show(vutils.make_grid(valid_reconstructions.cpu().data))"
   ]
  },
  {
   "cell_type": "code",
   "execution_count": 480,
   "metadata": {},
   "outputs": [
    {
     "data": {
      "image/png": "[encoded data removed]",
      "text/plain": [
       "<Figure size 432x288 with 1 Axes>"
      ]
     },
     "metadata": {
      "needs_background": "light"
     },
     "output_type": "display_data"
    },
    {
     "data": {
      "image/png": "[encoded data removed]",
      "text/plain": [
       "<Figure size 432x288 with 1 Axes>"
      ]
     },
     "metadata": {
      "needs_background": "light"
     },
     "output_type": "display_data"
    },
    {
     "data": {
      "image/png": "[encoded data removed]",
      "text/plain": [
       "<Figure size 432x288 with 1 Axes>"
      ]
     },
     "metadata": {
      "needs_background": "light"
     },
     "output_type": "display_data"
    },
    {
     "data": {
      "image/png": "[encoded data removed]",
      "text/plain": [
       "<Figure size 432x288 with 1 Axes>"
      ]
     },
     "metadata": {
      "needs_background": "light"
     },
     "output_type": "display_data"
    },
    {
     "data": {
      "image/png": "[encoded data removed]",
      "text/plain": [
       "<Figure size 432x288 with 1 Axes>"
      ]
     },
     "metadata": {
      "needs_background": "light"
     },
     "output_type": "display_data"
    },
    {
     "data": {
      "image/png": "[encoded data removed]",
      "text/plain": [
       "<Figure size 432x288 with 1 Axes>"
      ]
     },
     "metadata": {
      "needs_background": "light"
     },
     "output_type": "display_data"
    },
    {
     "data": {
      "image/png": "[encoded data removed]",
      "text/plain": [
       "<Figure size 432x288 with 1 Axes>"
      ]
     },
     "metadata": {
      "needs_background": "light"
     },
     "output_type": "display_data"
    },
    {
     "data": {
      "image/png": "[encoded data removed]",
      "text/plain": [
       "<Figure size 432x288 with 1 Axes>"
      ]
     },
     "metadata": {
      "needs_background": "light"
     },
     "output_type": "display_data"
    },
    {
     "data": {
      "image/png": "[encoded data removed]",
      "text/plain": [
       "<Figure size 432x288 with 1 Axes>"
      ]
     },
     "metadata": {
      "needs_background": "light"
     },
     "output_type": "display_data"
    },
    {
     "data": {
      "image/png": "[encoded data removed]",
      "text/plain": [
       "<Figure size 432x288 with 1 Axes>"
      ]
     },
     "metadata": {
      "needs_background": "light"
     },
     "output_type": "display_data"
    },
    {
     "data": {
      "image/png": "[encoded data removed]",
      "text/plain": [
       "<Figure size 432x288 with 1 Axes>"
      ]
     },
     "metadata": {
      "needs_background": "light"
     },
     "output_type": "display_data"
    },
    {
     "data": {
      "image/png": "[encoded data removed]",
      "text/plain": [
       "<Figure size 432x288 with 1 Axes>"
      ]
     },
     "metadata": {
      "needs_background": "light"
     },
     "output_type": "display_data"
    },
    {
     "data": {
      "image/png": "[encoded data removed]",
      "text/plain": [
       "<Figure size 432x288 with 1 Axes>"
      ]
     },
     "metadata": {
      "needs_background": "light"
     },
     "output_type": "display_data"
    },
    {
     "data": {
      "image/png": "[encoded data removed]",
      "text/plain": [
       "<Figure size 432x288 with 1 Axes>"
      ]
     },
     "metadata": {
      "needs_background": "light"
     },
     "output_type": "display_data"
    },
    {
     "data": {
      "image/png": "[encoded data removed]",
      "text/plain": [
       "<Figure size 432x288 with 1 Axes>"
      ]
     },
     "metadata": {
      "needs_background": "light"
     },
     "output_type": "display_data"
    },
    {
     "data": {
      "image/png": "[encoded data removed]",
      "text/plain": [
       "<Figure size 432x288 with 1 Axes>"
      ]
     },
     "metadata": {
      "needs_background": "light"
     },
     "output_type": "display_data"
    },
    {
     "data": {
      "image/png": "[encoded data removed]",
      "text/plain": [
       "<Figure size 432x288 with 1 Axes>"
      ]
     },
     "metadata": {
      "needs_background": "light"
     },
     "output_type": "display_data"
    },
    {
     "data": {
      "image/png": "[encoded data removed]",
      "text/plain": [
       "<Figure size 432x288 with 1 Axes>"
      ]
     },
     "metadata": {
      "needs_background": "light"
     },
     "output_type": "display_data"
    },
    {
     "data": {
      "image/png": "[encoded data removed]",
      "text/plain": [
       "<Figure size 432x288 with 1 Axes>"
      ]
     },
     "metadata": {
      "needs_background": "light"
     },
     "output_type": "display_data"
    },
    {
     "data": {
      "image/png": "[encoded data removed]",
      "text/plain": [
       "<Figure size 432x288 with 1 Axes>"
      ]
     },
     "metadata": {
      "needs_background": "light"
     },
     "output_type": "display_data"
    },
    {
     "data": {
      "image/png": "[encoded data removed]",
      "text/plain": [
       "<Figure size 432x288 with 1 Axes>"
      ]
     },
     "metadata": {
      "needs_background": "light"
     },
     "output_type": "display_data"
    },
    {
     "data": {
      "image/png": "[encoded data removed]",
      "text/plain": [
       "<Figure size 432x288 with 1 Axes>"
      ]
     },
     "metadata": {
      "needs_background": "light"
     },
     "output_type": "display_data"
    },
    {
     "data": {
      "image/png": "[encoded data removed]",
      "text/plain": [
       "<Figure size 432x288 with 1 Axes>"
      ]
     },
     "metadata": {
      "needs_background": "light"
     },
     "output_type": "display_data"
    },
    {
     "data": {
      "image/png": "[encoded data removed]",
      "text/plain": [
       "<Figure size 432x288 with 1 Axes>"
      ]
     },
     "metadata": {
      "needs_background": "light"
     },
     "output_type": "display_data"
    }
   ],
   "source": [
    "import json\n",
    "import matplotlib.pyplot as plt\n",
    "\n",
    "with open(loss_file) as f:\n",
    "    data = json.load(f)\n",
    "\n",
    "for key in list(data):\n",
    "    plt.plot(data[key][:])\n",
    "    plt.title(key)\n",
    "    plt.show()"
   ]
  },
  {
   "cell_type": "code",
   "execution_count": null,
   "metadata": {},
   "outputs": [],
   "source": []
  },
  {
   "cell_type": "code",
   "execution_count": 481,
   "metadata": {},
   "outputs": [
    {
     "ename": "IndentationError",
     "evalue": "expected an indented block (3243866989.py, line 27)",
     "output_type": "error",
     "traceback": [
      "\u001b[0;36m  Input \u001b[0;32mIn [481]\u001b[0;36m\u001b[0m\n\u001b[0;31m    if size_average:\u001b[0m\n\u001b[0m    ^\u001b[0m\n\u001b[0;31mIndentationError\u001b[0m\u001b[0;31m:\u001b[0m expected an indented block\n"
     ]
    }
   ],
   "source": [
    "    \"\"\"Computes the npairs loss.\n",
    "    Npairs loss expects paired data where a pair is composed of samples from the\n",
    "    same labels and each pairs in the minibatch have different labels. The loss\n",
    "    has two components. The first component is the L2 regularizer on the\n",
    "    embedding vectors. The second component is the sum of cross entropy loss\n",
    "    which takes each row of the pair-wise similarity matrix as logits and\n",
    "    the remapped one-hot labels as labels.\n",
    "    Args:\n",
    "    labels: 1-D tf.int32 `Tensor` of shape [batch_size/2].\n",
    "    embeddings_anchor: 2-D Tensor of shape [batch_size/2, embedding_dim] for the\n",
    "      embedding vectors for the anchor images. Embeddings should not be\n",
    "      l2 normalized.\n",
    "    embeddings_positive: 2-D Tensor of shape [batch_size/2, embedding_dim] for the\n",
    "      embedding vectors for the positive images. Embeddings should not be\n",
    "      l2 normalized.\n",
    "    reg_lambda: Float. L2 regularization term on the embedding vectors.\n",
    "    print_losses: Boolean. Option to print the xent and l2loss.\n",
    "    Returns:\n",
    "    npairs_loss: tf.float32 scalar.\n",
    "    \"\"\"\n",
    "\n",
    "import torch\n",
    "import torch.nn as nn\n",
    "import torch.functional as F\n",
    "\n",
    "def cross_entropy(logits, target, size_average=True):\n",
    "    if size_average:\n",
    "        return torch.mean(torch.sum(- target * F.log_softmax(logits, -1), -1))\n",
    "    else:\n",
    "        return torch.sum(torch.sum(- target * F.log_softmax(logits, -1), -1))\n",
    "\n",
    "\n",
    "class NpairLoss(nn.Module):\n",
    "    \"\"\"the multi-class n-pair loss\"\"\"\n",
    "    def __init__(self, l2_reg=0.02):\n",
    "        super(NpairLoss, self).__init__()\n",
    "        self.l2_reg = l2_reg\n",
    "\n",
    "    def forward(self, anchor, positive, target):\n",
    "        batch_size = anchor.size(0)\n",
    "        target = target.view(target.size(0), 1)\n",
    "\n",
    "        target = (target == torch.transpose(target, 0, 1)).float()\n",
    "        target = target / torch.sum(target, dim=1, keepdim=True).float()\n",
    "\n",
    "        logit = torch.matmul(anchor, torch.transpose(positive, 0, 1))\n",
    "        loss_ce = cross_entropy(logit, target)\n",
    "        l2_loss = torch.sum(anchor**2) / batch_size + torch.sum(positive**2) / batch_size\n",
    "\n",
    "        loss = loss_ce + self.l2_reg*l2_loss*0.25\n",
    "        return loss"
   ]
  },
  {
   "cell_type": "code",
   "execution_count": null,
   "metadata": {},
   "outputs": [],
   "source": [
    "# pylint: disable=line-too-long\n",
    "def npairs_loss(labels, embeddings_anchor, embeddings_positive,\n",
    "                reg_lambda=0.002, print_losses=False):\n",
    "    \n",
    "    \"\"\"Computes the npairs loss.\n",
    "    Npairs loss expects paired data where a pair is composed of samples from the\n",
    "    same labels and each pairs in the minibatch have different labels. The loss\n",
    "    has two components. The first component is the L2 regularizer on the\n",
    "    embedding vectors. The second component is the sum of cross entropy loss\n",
    "    which takes each row of the pair-wise similarity matrix as logits and\n",
    "    the remapped one-hot labels as labels.\n",
    "    Args:\n",
    "    labels: 1-D tf.int32 `Tensor` of shape [batch_size/2].\n",
    "    embeddings_anchor: 2-D Tensor of shape [batch_size/2, embedding_dim] for the\n",
    "      embedding vectors for the anchor images. Embeddings should not be\n",
    "      l2 normalized.\n",
    "    embeddings_positive: 2-D Tensor of shape [batch_size/2, embedding_dim] for the\n",
    "      embedding vectors for the positive images. Embeddings should not be\n",
    "      l2 normalized.\n",
    "    reg_lambda: Float. L2 regularization term on the embedding vectors.\n",
    "    print_losses: Boolean. Option to print the xent and l2loss.\n",
    "    Returns:\n",
    "    npairs_loss: tf.float32 scalar.\n",
    "    \"\"\"\n",
    "\n",
    "\n",
    "    reg_anchor = math_ops.reduce_mean(\n",
    "        math_ops.reduce_sum(math_ops.square(embeddings_anchor), 1))\n",
    "    reg_positive = math_ops.reduce_mean(\n",
    "        math_ops.reduce_sum(math_ops.square(embeddings_positive), 1))\n",
    "    l2loss = math_ops.multiply(\n",
    "        0.25 * reg_lambda, reg_anchor + reg_positive, name='l2loss')\n",
    "\n",
    "    # Get per pair similarities.\n",
    "    similarity_matrix = math_ops.matmul(\n",
    "      embeddings_anchor, embeddings_positive, transpose_a=False,\n",
    "      transpose_b=True)\n",
    "\n",
    "    # Reshape [batch_size] label tensor to a [batch_size, 1] label tensor.\n",
    "    lshape = array_ops.shape(labels)\n",
    "    assert lshape.shape == 1\n",
    "    labels = array_ops.reshape(labels, [lshape[0], 1])\n",
    "\n",
    "    labels_remapped = math_ops.to_float(\n",
    "        math_ops.equal(labels, array_ops.transpose(labels)))\n",
    "    labels_remapped /= math_ops.reduce_sum(labels_remapped, 1, keepdims=True)\n",
    "\n",
    "    # Add the softmax loss.\n",
    "    xent_loss = nn.softmax_cross_entropy_with_logits(\n",
    "        logits=similarity_matrix, labels=labels_remapped)\n",
    "    xent_loss = math_ops.reduce_mean(xent_loss, name='xentropy')\n",
    "\n",
    "    if print_losses:\n",
    "        xent_loss = logging_ops.Print(\n",
    "            xent_loss, ['cross entropy:', xent_loss, 'l2loss:', l2loss])\n",
    "\n",
    "    return l2loss + xent_loss"
   ]
  },
  {
   "cell_type": "code",
   "execution_count": null,
   "metadata": {},
   "outputs": [],
   "source": [
    "import numpy as np\n",
    "\n",
    "# 3d shapes \n",
    "mig = [0.925, 0.668, 0.527, 0.597, 0.62, 0.624, 0.644, 0.606, 0.642]\n",
    "dci = [0.794, 0.9749666667, 0.7083333333, 0.7763333333, 0.8053333333, 0.8226666667, 0.787, 0.8196666667, 0.8016666667]\n",
    "factor = [0.887, 1, 0.837, 0.88, 0.831, 0.88, 0.834, 0.867, 0.88]\n",
    "beta = [0.914, 1, 0.962, 0.849, 0.866, 0.888, 0.856, 0.88, 0.886]\n",
    "\n",
    "mig = np.array(mig)\n",
    "dci = np.array(dci)\n",
    "factor = np.array(factor)\n",
    "beta = np.array(beta)\n"
   ]
  },
  {
   "cell_type": "code",
   "execution_count": null,
   "metadata": {},
   "outputs": [],
   "source": [
    "import matplotlib.pyplot as plt\n",
    "\n",
    "fig, (ax1, ax2, ax3, ax4) = plt.subplots(nrows=1, ncols=4)\n",
    "\n",
    "# Plot violin plot on axes 1\n",
    "ax1.violinplot(mig, showmedians=True)\n",
    "ax1.set_title('MIG')\n",
    "\n",
    "# Plot violin plot on axes 2\n",
    "ax2.violinplot(factor, showmedians=True)\n",
    "ax2.set_title('Factor VAE')\n",
    "\n",
    "# Plot violin plot on axes 3\n",
    "ax3.violinplot(beta, showmedians=True)\n",
    "ax3.set_title('Beta VAE')\n",
    "\n",
    "# Plot violin plot on axes 4\n",
    "ax4.violinplot(dci, showmedians=True)\n",
    "ax4.set_title('DCI')\n",
    "\n",
    "ax1.grid(axis='y')\n",
    "ax2.grid(axis='y')\n",
    "ax3.grid(axis='y')\n",
    "ax4.grid(axis='y')\n",
    "\n",
    "ax1.xaxis.set_visible(False) \n",
    "ax2.xaxis.set_visible(False) \n",
    "ax3.xaxis.set_visible(False) \n",
    "ax4.xaxis.set_visible(False) \n",
    " \n",
    "plt.subplots_adjust(left=0.1,\n",
    "                    bottom=0.1, \n",
    "                    right=0.9, \n",
    "                    top=0.9, \n",
    "                    wspace=0.8, \n",
    "                    hspace=0.4)    \n",
    "\n",
    "plt.show()"
   ]
  },
  {
   "cell_type": "code",
   "execution_count": null,
   "metadata": {},
   "outputs": [],
   "source": [
    "import seaborn as sns"
   ]
  },
  {
   "cell_type": "code",
   "execution_count": null,
   "metadata": {},
   "outputs": [],
   "source": [
    "plot_color_gradients('Qualitative',\n",
    "                     ['Pastel1', 'Pastel2', 'Paired', 'Accent', 'Dark2',\n",
    "                      'Set1', 'Set2', 'Set3', 'tab10', 'tab20', 'tab20b',\n",
    "                      'tab20c'])"
   ]
  },
  {
   "cell_type": "code",
   "execution_count": null,
   "metadata": {},
   "outputs": [],
   "source": []
  },
  {
   "cell_type": "code",
   "execution_count": null,
   "metadata": {},
   "outputs": [],
   "source": [
    "a=2"
   ]
  },
  {
   "cell_type": "code",
   "execution_count": null,
   "metadata": {},
   "outputs": [],
   "source": [
    "import torch\n",
    "import torch.nn as nn"
   ]
  },
  {
   "cell_type": "code",
   "execution_count": null,
   "metadata": {},
   "outputs": [],
   "source": [
    "class newmodel(nn.Module):\n",
    "    def __init__(self):\n",
    "        super(newmodel, self).__init__()\n",
    "        \n",
    "        self.register_buffer('A', torch.randn(10))\n",
    "        "
   ]
  },
  {
   "cell_type": "code",
   "execution_count": null,
   "metadata": {},
   "outputs": [],
   "source": [
    "new = newmodel()"
   ]
  },
  {
   "cell_type": "code",
   "execution_count": null,
   "metadata": {},
   "outputs": [],
   "source": [
    "new.A"
   ]
  },
  {
   "cell_type": "code",
   "execution_count": null,
   "metadata": {},
   "outputs": [],
   "source": [
    "b = torch.randn(10)"
   ]
  },
  {
   "cell_type": "code",
   "execution_count": null,
   "metadata": {},
   "outputs": [],
   "source": [
    "b"
   ]
  },
  {
   "cell_type": "code",
   "execution_count": null,
   "metadata": {},
   "outputs": [],
   "source": [
    "new.A = b"
   ]
  },
  {
   "cell_type": "code",
   "execution_count": null,
   "metadata": {},
   "outputs": [],
   "source": [
    "new.A "
   ]
  },
  {
   "cell_type": "code",
   "execution_count": null,
   "metadata": {},
   "outputs": [],
   "source": [
    "new.A = b.type_as(new.A)"
   ]
  },
  {
   "cell_type": "code",
   "execution_count": null,
   "metadata": {},
   "outputs": [],
   "source": [
    "new.A"
   ]
  },
  {
   "cell_type": "code",
   "execution_count": null,
   "metadata": {},
   "outputs": [],
   "source": [
    "dict(new.named_buffers()).keys()"
   ]
  },
  {
   "cell_type": "code",
   "execution_count": null,
   "metadata": {},
   "outputs": [],
   "source": [
    "a"
   ]
  },
  {
   "cell_type": "code",
   "execution_count": null,
   "metadata": {},
   "outputs": [],
   "source": [
    "new._buffers"
   ]
  },
  {
   "cell_type": "code",
   "execution_count": null,
   "metadata": {},
   "outputs": [],
   "source": [
    "labels = torch.tensor([1,4,3,1,2,3,2,3,4,2,1,3,3,1,4,6,8,6,5,3])"
   ]
  },
  {
   "cell_type": "code",
   "execution_count": null,
   "metadata": {},
   "outputs": [],
   "source": [
    "labels.unique()"
   ]
  },
  {
   "cell_type": "code",
   "execution_count": null,
   "metadata": {},
   "outputs": [],
   "source": [
    "a = torch.tensor([[1,2,3],[4,5,6],[7,8,9]])"
   ]
  },
  {
   "cell_type": "code",
   "execution_count": null,
   "metadata": {},
   "outputs": [],
   "source": [
    "a"
   ]
  },
  {
   "cell_type": "code",
   "execution_count": null,
   "metadata": {},
   "outputs": [],
   "source": [
    "b = torch.tensor([1,0,1])"
   ]
  },
  {
   "cell_type": "code",
   "execution_count": null,
   "metadata": {},
   "outputs": [],
   "source": [
    "a*b.repeat(3,1)"
   ]
  },
  {
   "cell_type": "code",
   "execution_count": null,
   "metadata": {},
   "outputs": [],
   "source": [
    "# computes the center loss\n",
    "# technically you want the centers to be detached\n",
    "\n",
    "# This is to compute the loss\n",
    "def compute_center_loss(features, centers, targets):\n",
    "    features = features.view(features.size(0), -1)\n",
    "    target_centers = centers[targets]\n",
    "    criterion = torch.nn.MSELoss()\n",
    "    center_loss = criterion(features, target_centers)\n",
    "    return center_loss"
   ]
  },
  {
   "cell_type": "code",
   "execution_count": null,
   "metadata": {},
   "outputs": [],
   "source": [
    "# use this to update the centers, see how this is used in the code. \n",
    "\n",
    "def get_center_delta(features, centers, targets, alpha):\n",
    "    # implementation equation (4) in the center-loss paper\n",
    "    features = features.view(features.size(0), -1)\n",
    "    targets, indices = torch.sort(targets)\n",
    "    target_centers = centers[targets] # centers are aligned\n",
    "    features = features[indices] # features are also aligned\n",
    "\n",
    "    delta_centers = target_centers - features\n",
    "    uni_targets, indices = torch.unique(\n",
    "            targets.cpu(), sorted=True, return_inverse=True)\n",
    "\n",
    "    uni_targets = uni_targets.to(device)\n",
    "    indices = indices.to(device)\n",
    "\n",
    "    delta_centers = torch.zeros(\n",
    "        uni_targets.size(0), delta_centers.size(1)\n",
    "    ).to(device).index_add_(0, indices, delta_centers)\n",
    "\n",
    "    targets_repeat_num = uni_targets.size()[0]\n",
    "    uni_targets_repeat_num = targets.size()[0]\n",
    "    targets_repeat = targets.repeat(\n",
    "            targets_repeat_num).view(targets_repeat_num, -1)\n",
    "    uni_targets_repeat = uni_targets.unsqueeze(1).repeat(\n",
    "            1, uni_targets_repeat_num)\n",
    "    same_class_feature_count = torch.sum(\n",
    "            targets_repeat == uni_targets_repeat, dim=1).float().unsqueeze(1)\n",
    "\n",
    "    delta_centers = delta_centers / (same_class_feature_count + 1.0) * alpha\n",
    "    result = torch.zeros_like(centers)\n",
    "    result[uni_targets, :] = delta_centers\n",
    "    return result"
   ]
  },
  {
   "cell_type": "code",
   "execution_count": null,
   "metadata": {},
   "outputs": [],
   "source": [
    "labels = torch.tensor([1,2,3,2,1,2,0,4,1,2,0,2,4])"
   ]
  },
  {
   "cell_type": "code",
   "execution_count": null,
   "metadata": {},
   "outputs": [],
   "source": [
    "targets, inds = torch.sort(labels)"
   ]
  },
  {
   "cell_type": "code",
   "execution_count": null,
   "metadata": {},
   "outputs": [],
   "source": [
    "targets"
   ]
  },
  {
   "cell_type": "code",
   "execution_count": null,
   "metadata": {},
   "outputs": [],
   "source": [
    "inds"
   ]
  },
  {
   "cell_type": "code",
   "execution_count": null,
   "metadata": {},
   "outputs": [],
   "source": []
  },
  {
   "cell_type": "code",
   "execution_count": null,
   "metadata": {},
   "outputs": [],
   "source": [
    "def center_loss(x, labels, prototypes):\n",
    "   \n",
    "    batch_size = x.size(0)\n",
    "    num_classes = len(labels.unique())\n",
    "    assert prototypes.shape[0] == num_classes\n",
    "    \n",
    "    \n",
    "    distmat = torch.pow(x, 2).sum(dim=1, keepdim=True).expand(batch_size, num_classes) + \\\n",
    "                  torch.pow(prototypes, 2).sum(dim=1, keepdim=True).expand(num_classes, batch_size).t()\n",
    "    distmat.addmm_(1, -2, x, prototypes.t())\n",
    "\n",
    "    classes = torch.arange(num_classes).long()\n",
    "    classes = classes.cuda()\n",
    "    labels = labels.unsqueeze(1).expand(batch_size, num_classes)\n",
    "    mask = labels.eq(classes.expand(batch_size, num_classes))\n",
    "\n",
    "    dist = distmat * mask.float()\n",
    "    loss = dist.clamp(min=1e-12, max=1e+12).sum() / batch_size\n",
    "\n",
    "    return loss\n",
    "\n",
    "# is this used to update the prototypes too? maybe not because no term of alpha is present"
   ]
  },
  {
   "cell_type": "code",
   "execution_count": null,
   "metadata": {},
   "outputs": [],
   "source": []
  },
  {
   "cell_type": "code",
   "execution_count": null,
   "metadata": {},
   "outputs": [],
   "source": [
    "a = torch.tensor([0,1,2,3,4,5,6,7,8,9])"
   ]
  },
  {
   "cell_type": "code",
   "execution_count": null,
   "metadata": {},
   "outputs": [],
   "source": [
    "a//5"
   ]
  },
  {
   "cell_type": "code",
   "execution_count": null,
   "metadata": {},
   "outputs": [],
   "source": [
    "def euclidean_dist(x, y):\n",
    "    # x: N x D\n",
    "    # y: M x D\n",
    "    n = x.size(0)\n",
    "    m = y.size(0)\n",
    "    d = x.size(1)\n",
    "    assert d == y.size(1)\n",
    "\n",
    "    x = x.unsqueeze(1).expand(n, m, d)\n",
    "    y = y.unsqueeze(0).expand(n, m, d)\n",
    "\n",
    "    return torch.pow(x - y, 2).sum(2)"
   ]
  },
  {
   "cell_type": "code",
   "execution_count": null,
   "metadata": {},
   "outputs": [],
   "source": [
    "def proto_loss(z, label, prototypes):\n",
    "\n",
    "    # find euclidean distance\n",
    "    dists = euclidean_dist(z, prototypes)\n",
    "    print(dists.shape) \n",
    "    \n",
    "    new_dists = dists.view(z.shape[0],-1,5)\n",
    "    print(new_dists.shape)\n",
    "    # reshape dists and take the max from each\n",
    "    #reshaped_dists = dists.view()\n",
    "    \n",
    "    # this one will change, get the closest prototypes from each class  \n",
    "    log_p_y = F.log_softmax(-dists, dim=1)\n",
    "    # calculate the actual loss (see how to calculate this)\n",
    "\n",
    "    # based on the label select one of these\n",
    "    proto_loss = -log_p_y.gather(1, label.unsqueeze(1)).squeeze().view(-1).mean()\n",
    "\n",
    "    _, y_hat = log_p_y.max(1)\n",
    "    acc = torch.eq(y_hat, label).float().mean()\n",
    "\n",
    "    return proto_loss, acc\n"
   ]
  },
  {
   "cell_type": "code",
   "execution_count": null,
   "metadata": {},
   "outputs": [],
   "source": [
    "z = torch.randn(4,2)"
   ]
  },
  {
   "cell_type": "code",
   "execution_count": null,
   "metadata": {},
   "outputs": [],
   "source": [
    "label = torch.tensor([0,1,0,1])"
   ]
  },
  {
   "cell_type": "code",
   "execution_count": null,
   "metadata": {},
   "outputs": [],
   "source": [
    "prototypes = torch.randn(10,2)"
   ]
  },
  {
   "cell_type": "code",
   "execution_count": null,
   "metadata": {},
   "outputs": [],
   "source": [
    "proto_loss(z, label, prototypes)"
   ]
  },
  {
   "cell_type": "code",
   "execution_count": null,
   "metadata": {},
   "outputs": [],
   "source": [
    "c = torch.tensor([[0,1,2,3,4,5,6,7,8,9],[0,1,2,3,4,5,6,7,8,9],[0,1,2,3,4,5,6,7,8,9]])"
   ]
  },
  {
   "cell_type": "code",
   "execution_count": null,
   "metadata": {},
   "outputs": [],
   "source": [
    "c.shape"
   ]
  },
  {
   "cell_type": "code",
   "execution_count": null,
   "metadata": {},
   "outputs": [],
   "source": [
    "d = c.view(3,-1,5)"
   ]
  },
  {
   "cell_type": "code",
   "execution_count": null,
   "metadata": {},
   "outputs": [],
   "source": [
    "d"
   ]
  },
  {
   "cell_type": "code",
   "execution_count": null,
   "metadata": {},
   "outputs": [],
   "source": [
    "a,b =d.max(dim=-1)"
   ]
  },
  {
   "cell_type": "code",
   "execution_count": null,
   "metadata": {},
   "outputs": [],
   "source": [
    "a"
   ]
  },
  {
   "cell_type": "code",
   "execution_count": null,
   "metadata": {},
   "outputs": [],
   "source": [
    "a.shape"
   ]
  },
  {
   "cell_type": "code",
   "execution_count": null,
   "metadata": {},
   "outputs": [],
   "source": [
    "b.shape"
   ]
  },
  {
   "cell_type": "code",
   "execution_count": null,
   "metadata": {},
   "outputs": [],
   "source": [
    "d"
   ]
  },
  {
   "cell_type": "code",
   "execution_count": null,
   "metadata": {},
   "outputs": [],
   "source": []
  },
  {
   "cell_type": "code",
   "execution_count": null,
   "metadata": {},
   "outputs": [],
   "source": [
    "d"
   ]
  },
  {
   "cell_type": "code",
   "execution_count": null,
   "metadata": {},
   "outputs": [],
   "source": [
    "b"
   ]
  },
  {
   "cell_type": "code",
   "execution_count": null,
   "metadata": {},
   "outputs": [],
   "source": [
    "g = torch.gather(d,-1, b.unsqueeze(-1)).squeeze(-1)"
   ]
  },
  {
   "cell_type": "code",
   "execution_count": null,
   "metadata": {},
   "outputs": [],
   "source": [
    "g"
   ]
  },
  {
   "cell_type": "code",
   "execution_count": null,
   "metadata": {},
   "outputs": [],
   "source": [
    "g.shape"
   ]
  },
  {
   "cell_type": "code",
   "execution_count": null,
   "metadata": {},
   "outputs": [],
   "source": [
    "g.view()"
   ]
  },
  {
   "cell_type": "code",
   "execution_count": null,
   "metadata": {},
   "outputs": [],
   "source": [
    "x = torch.randn(4,2)"
   ]
  },
  {
   "cell_type": "code",
   "execution_count": null,
   "metadata": {},
   "outputs": [],
   "source": [
    "b = torch.pow(x, 2).sum(dim=1, keepdim=True)"
   ]
  },
  {
   "cell_type": "code",
   "execution_count": null,
   "metadata": {},
   "outputs": [],
   "source": [
    "b"
   ]
  },
  {
   "cell_type": "code",
   "execution_count": null,
   "metadata": {},
   "outputs": [],
   "source": [
    "c = b.expand(4, 10)"
   ]
  },
  {
   "cell_type": "code",
   "execution_count": null,
   "metadata": {},
   "outputs": [],
   "source": [
    "c.shape"
   ]
  },
  {
   "cell_type": "code",
   "execution_count": null,
   "metadata": {},
   "outputs": [],
   "source": [
    "prototypes = torch.randn(10,2)"
   ]
  },
  {
   "cell_type": "code",
   "execution_count": null,
   "metadata": {},
   "outputs": [],
   "source": [
    "new_prototypes = torch.randn(40,2)"
   ]
  },
  {
   "cell_type": "code",
   "execution_count": null,
   "metadata": {},
   "outputs": [],
   "source": [
    "prototypes.shape"
   ]
  },
  {
   "cell_type": "code",
   "execution_count": null,
   "metadata": {},
   "outputs": [],
   "source": [
    "torch.pow(prototypes, 2).sum(dim=1, keepdim=True).expand(10, 4) # maybe you remove the 4 here "
   ]
  },
  {
   "cell_type": "code",
   "execution_count": null,
   "metadata": {},
   "outputs": [],
   "source": [
    "# 4,10 is what we want"
   ]
  },
  {
   "cell_type": "code",
   "execution_count": null,
   "metadata": {},
   "outputs": [],
   "source": [
    "torch.pow(new_prototypes, 2).sum(dim=1, keepdim=True)"
   ]
  },
  {
   "cell_type": "code",
   "execution_count": null,
   "metadata": {},
   "outputs": [],
   "source": [
    "# change that part to this one\n",
    "\n",
    "torch.pow(new_prototypes, 2).sum(dim=1, keepdim=True).view(4,10)"
   ]
  },
  {
   "cell_type": "code",
   "execution_count": null,
   "metadata": {},
   "outputs": [],
   "source": [
    "prototypes.shape"
   ]
  },
  {
   "cell_type": "code",
   "execution_count": null,
   "metadata": {},
   "outputs": [],
   "source": [
    "addmm(x, prototypes.t(), 1, -2) # okay so "
   ]
  },
  {
   "cell_type": "code",
   "execution_count": null,
   "metadata": {},
   "outputs": [],
   "source": [
    "# so you multiply x with the prototypes to get a 1x10 vector. batch_size, num_features batch_size, 10, num_features\n",
    "\n",
    "# and from this "
   ]
  },
  {
   "cell_type": "code",
   "execution_count": null,
   "metadata": {},
   "outputs": [],
   "source": [
    "x = torch.randn(4,2)"
   ]
  },
  {
   "cell_type": "code",
   "execution_count": null,
   "metadata": {},
   "outputs": [],
   "source": [
    "new_prototypes = torch.randn(4,10,2)"
   ]
  },
  {
   "cell_type": "code",
   "execution_count": null,
   "metadata": {},
   "outputs": [],
   "source": [
    "torch.cdist(new_prototypes, x.unsqueeze(1)).squeeze()"
   ]
  },
  {
   "cell_type": "code",
   "execution_count": null,
   "metadata": {},
   "outputs": [],
   "source": [
    "torch.randperm(2)"
   ]
  },
  {
   "cell_type": "code",
   "execution_count": null,
   "metadata": {},
   "outputs": [],
   "source": [
    "a = torch.arange(16).view(-1,2)"
   ]
  },
  {
   "cell_type": "code",
   "execution_count": null,
   "metadata": {},
   "outputs": [],
   "source": [
    "a"
   ]
  },
  {
   "cell_type": "code",
   "execution_count": null,
   "metadata": {},
   "outputs": [],
   "source": [
    "perm = torch.cat([torch.randperm(2).view(1,-1) for i in range(8)],0)"
   ]
  },
  {
   "cell_type": "code",
   "execution_count": null,
   "metadata": {},
   "outputs": [],
   "source": [
    "perm.shape"
   ]
  },
  {
   "cell_type": "code",
   "execution_count": null,
   "metadata": {},
   "outputs": [],
   "source": [
    "b = torch.cat([a[i:i+1,perm[i]] for i in range(8)],0)"
   ]
  },
  {
   "cell_type": "code",
   "execution_count": null,
   "metadata": {},
   "outputs": [],
   "source": [
    "d = torch.randperm(2)"
   ]
  },
  {
   "cell_type": "code",
   "execution_count": null,
   "metadata": {},
   "outputs": [],
   "source": [
    "c = a[:,d]"
   ]
  },
  {
   "cell_type": "code",
   "execution_count": null,
   "metadata": {},
   "outputs": [],
   "source": [
    "c"
   ]
  },
  {
   "cell_type": "code",
   "execution_count": null,
   "metadata": {},
   "outputs": [],
   "source": [
    "b"
   ]
  },
  {
   "cell_type": "code",
   "execution_count": null,
   "metadata": {},
   "outputs": [],
   "source": [
    "# memory capacity for reservoirs\n",
    "\n",
    "def mc_k(u, y):\n",
    "\n",
    "    \"\"\"\n",
    "    u: input at time step (t - k)\n",
    "    y: reconstructed input using linear readout\n",
    "    \n",
    "    \"\"\"\n",
    "    \n",
    "    a = np.concatenate((np.transpose(u), np.transpose(y)),0)\n",
    "    \n",
    "    return np.square(np.cov(a)[0,1])/(np.var(u)* np.var(y))\n",
    "    \n",
    "    \n",
    "def memory_capacity(input_mat, states_mat):\n",
    "    \"\"\"\n",
    "    input_mat:  U (Kxt) with u(i) (dim K) as column i \n",
    "    states_mat: X (Nxt) where x(i) (dim N) as column i\n",
    "    \n",
    "    returns mc:    MC for timestep t\n",
    "    \"\"\"\n",
    "    # calculates the pseudo inverse to get \n",
    "    X = np.linalg.pinv(states_mat)\n",
    "    \n",
    "    U = input_mat\n",
    "    # the current state vector being x(t)\n",
    "    x = states_mat[:,-1:]\n",
    "    \n",
    "    W = np.matmul(U, X)\n",
    "    \n",
    "    \n",
    "    # num timesteps\n",
    "    t = np.shape(states_mat)[1]\n",
    "    \n",
    "    mc = 0\n",
    "    for i in range(1, t):\n",
    "\n",
    "        u = U[:,-i-1:-i]\n",
    "\n",
    "        y = np.matmul(W, x)\n",
    "        \n",
    "        mc += mc_k(u, y)\n",
    "    \n",
    "    return mc\n",
    "    "
   ]
  },
  {
   "cell_type": "code",
   "execution_count": null,
   "metadata": {},
   "outputs": [],
   "source": [
    "# test: K=4, t=10, N=20\n",
    "\n",
    "u = np.arange(40).reshape(4,10)\n",
    "\n",
    "X = np.arange(200).reshape(20,10)\n",
    "\n",
    "memory_capacity(u, X)"
   ]
  },
  {
   "cell_type": "code",
   "execution_count": null,
   "metadata": {},
   "outputs": [],
   "source": []
  },
  {
   "cell_type": "code",
   "execution_count": null,
   "metadata": {},
   "outputs": [],
   "source": []
  },
  {
   "cell_type": "code",
   "execution_count": null,
   "metadata": {},
   "outputs": [],
   "source": [
    "x = np.asarray([-2.1, -1,  4.3]).reshape(3,1)\n",
    "y = np.asarray([3,  1.1,  0.12]).reshape(3,1)"
   ]
  },
  {
   "cell_type": "code",
   "execution_count": null,
   "metadata": {},
   "outputs": [],
   "source": [
    "X = np.concatenate((x, y), axis=1)"
   ]
  },
  {
   "cell_type": "code",
   "execution_count": null,
   "metadata": {},
   "outputs": [],
   "source": [
    "X.shape"
   ]
  },
  {
   "cell_type": "code",
   "execution_count": null,
   "metadata": {},
   "outputs": [],
   "source": [
    "np.cov(X)"
   ]
  },
  {
   "cell_type": "code",
   "execution_count": null,
   "metadata": {},
   "outputs": [],
   "source": []
  },
  {
   "cell_type": "code",
   "execution_count": null,
   "metadata": {},
   "outputs": [],
   "source": [
    "np.cov(x,y)"
   ]
  },
  {
   "cell_type": "code",
   "execution_count": null,
   "metadata": {},
   "outputs": [],
   "source": [
    "np.var(x)"
   ]
  },
  {
   "cell_type": "code",
   "execution_count": null,
   "metadata": {},
   "outputs": [],
   "source": [
    "np.var(np.transpose(x))"
   ]
  },
  {
   "cell_type": "code",
   "execution_count": null,
   "metadata": {},
   "outputs": [],
   "source": []
  },
  {
   "cell_type": "code",
   "execution_count": null,
   "metadata": {},
   "outputs": [],
   "source": [
    "# my_list = ['apples', 'bananas', 'oranges']"
   ]
  },
  {
   "cell_type": "code",
   "execution_count": null,
   "metadata": {},
   "outputs": [],
   "source": [
    "# for fruit in my_list:\n",
    "#     print(fruit)\n",
    "#     print('this fruit has been printed')"
   ]
  },
  {
   "cell_type": "code",
   "execution_count": null,
   "metadata": {},
   "outputs": [],
   "source": [
    "m = nn.Conv1d(16, 33, 3, stride=2)\n",
    "input = torch.randn(20, 16, 50)\n",
    "output = m(input)"
   ]
  },
  {
   "cell_type": "code",
   "execution_count": null,
   "metadata": {},
   "outputs": [],
   "source": [
    "output.shape"
   ]
  },
  {
   "cell_type": "code",
   "execution_count": 482,
   "metadata": {},
   "outputs": [
    {
     "name": "stdout",
     "output_type": "stream",
     "text": [
      "tensor([3, 0, 1, 2])\n"
     ]
    }
   ],
   "source": [
    "print(torch.randperm(4))"
   ]
  },
  {
   "cell_type": "code",
   "execution_count": null,
   "metadata": {},
   "outputs": [],
   "source": []
  }
 ],
 "metadata": {
  "kernelspec": {
   "display_name": "Python 3 (ipykernel)",
   "language": "python",
   "name": "python3"
  },
  "language_info": {
   "codemirror_mode": {
    "name": "ipython",
    "version": 3
   },
   "file_extension": ".py",
   "mimetype": "text/x-python",
   "name": "python",
   "nbconvert_exporter": "python",
   "pygments_lexer": "ipython3",
   "version": "3.8.2"
  }
 },
 "nbformat": 4,
 "nbformat_minor": 2
}
